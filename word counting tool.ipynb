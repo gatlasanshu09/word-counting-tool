{
 "cells": [
  {
   "cell_type": "code",
   "execution_count": 2,
   "id": "cf5554e2",
   "metadata": {},
   "outputs": [],
   "source": [
    "def word_count(file_path):\n",
    "    with open(file_path, 'r') as file:\n",
    "        content = file.read()\n",
    "        word_count = len(content.split())\n",
    "        character_count = len(content)\n",
    "        line_count = len(content.split('\\n'))\n",
    "        \n",
    "    print(f\"Number of words: {word_count}\")\n",
    "    print(f\"Number of characters: {character_count}\")\n",
    "    print(f\"Number of lines: {line_count}\")\n",
    "\n",
    "# Example usage\n",
    "file_path = 'path/to/your/file.txt'#here we have to add the path of the file\n",
    "word_count(file_path)\n"
   ]
  }
 ],
 "metadata": {
  "kernelspec": {
   "display_name": "Python 3 (ipykernel)",
   "language": "python",
   "name": "python3"
  },
  "language_info": {
   "codemirror_mode": {
    "name": "ipython",
    "version": 3
   },
   "file_extension": ".py",
   "mimetype": "text/x-python",
   "name": "python",
   "nbconvert_exporter": "python",
   "pygments_lexer": "ipython3",
   "version": "3.11.5"
  }
 },
 "nbformat": 4,
 "nbformat_minor": 5
}
